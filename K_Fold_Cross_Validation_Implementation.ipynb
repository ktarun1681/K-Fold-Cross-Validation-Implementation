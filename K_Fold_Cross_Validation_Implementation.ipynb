{
  "nbformat": 4,
  "nbformat_minor": 0,
  "metadata": {
    "colab": {
      "name": "K-Fold Cross Validation Implementation.ipynb",
      "provenance": [],
      "mount_file_id": "1o1EgWs6A4e54WPKAGAvFEn0AtymwhsoW",
      "authorship_tag": "ABX9TyMrkWpXc8ApDGRjAvmdfPcb"
    },
    "kernelspec": {
      "name": "python3",
      "display_name": "Python 3"
    },
    "language_info": {
      "name": "python"
    }
  },
  "cells": [
    {
      "cell_type": "markdown",
      "source": [
        "**Here in this notebook we will learn how to implement the K-Fold Cross Validation and how it is better than just train test split especially for the small datasets.**"
      ],
      "metadata": {
        "id": "3CHqHq_WLb2S"
      }
    },
    {
      "cell_type": "markdown",
      "source": [
        "Importing the dependencies:"
      ],
      "metadata": {
        "id": "UgpUuzbWL2PV"
      }
    },
    {
      "cell_type": "code",
      "execution_count": 73,
      "metadata": {
        "id": "q-dPGc4XLDHj"
      },
      "outputs": [],
      "source": [
        "import pandas as pd\n",
        "import numpy as np\n",
        "from sklearn.model_selection import train_test_split\n",
        "from sklearn.model_selection import cross_val_score\n",
        "from sklearn.metrics import accuracy_score"
      ]
    },
    {
      "cell_type": "markdown",
      "source": [
        "Now we will import all the models which we are going to use in this use case and see how different and impactful K-fold cross validation works as compared to normal train_test_split."
      ],
      "metadata": {
        "id": "tq0RPt8QMaQj"
      }
    },
    {
      "cell_type": "code",
      "source": [
        "from sklearn.linear_model import LogisticRegression\n",
        "from sklearn.svm import SVC\n",
        "from sklearn.neighbors import KNeighborsClassifier\n",
        "from sklearn.ensemble import RandomForestClassifier"
      ],
      "metadata": {
        "id": "suY_DDFmMYnn"
      },
      "execution_count": 74,
      "outputs": []
    },
    {
      "cell_type": "markdown",
      "source": [
        "Data Collection and Pre-Processing:"
      ],
      "metadata": {
        "id": "VfYrezRWNcgn"
      }
    },
    {
      "cell_type": "code",
      "source": [
        "#loading the dataset into pandas dataframe\n",
        "\n",
        "df = pd.read_csv('/content/drive/MyDrive/Datasets/heart.csv')"
      ],
      "metadata": {
        "id": "oNPxFM2zNbDk"
      },
      "execution_count": 75,
      "outputs": []
    },
    {
      "cell_type": "code",
      "source": [
        "#printing the first five rows\n",
        "\n",
        "df.head()"
      ],
      "metadata": {
        "colab": {
          "base_uri": "https://localhost:8080/",
          "height": 206
        },
        "id": "9kXY0TEENt_y",
        "outputId": "2f0771b6-9ce8-4846-afde-f18428bb25bf"
      },
      "execution_count": 76,
      "outputs": [
        {
          "output_type": "execute_result",
          "data": {
            "text/html": [
              "\n",
              "  <div id=\"df-2b689b51-7805-48ca-9c85-bdb9ce7d10da\">\n",
              "    <div class=\"colab-df-container\">\n",
              "      <div>\n",
              "<style scoped>\n",
              "    .dataframe tbody tr th:only-of-type {\n",
              "        vertical-align: middle;\n",
              "    }\n",
              "\n",
              "    .dataframe tbody tr th {\n",
              "        vertical-align: top;\n",
              "    }\n",
              "\n",
              "    .dataframe thead th {\n",
              "        text-align: right;\n",
              "    }\n",
              "</style>\n",
              "<table border=\"1\" class=\"dataframe\">\n",
              "  <thead>\n",
              "    <tr style=\"text-align: right;\">\n",
              "      <th></th>\n",
              "      <th>age</th>\n",
              "      <th>sex</th>\n",
              "      <th>cp</th>\n",
              "      <th>trestbps</th>\n",
              "      <th>chol</th>\n",
              "      <th>fbs</th>\n",
              "      <th>restecg</th>\n",
              "      <th>thalach</th>\n",
              "      <th>exang</th>\n",
              "      <th>oldpeak</th>\n",
              "      <th>slope</th>\n",
              "      <th>ca</th>\n",
              "      <th>thal</th>\n",
              "      <th>target</th>\n",
              "    </tr>\n",
              "  </thead>\n",
              "  <tbody>\n",
              "    <tr>\n",
              "      <th>0</th>\n",
              "      <td>63</td>\n",
              "      <td>1</td>\n",
              "      <td>3</td>\n",
              "      <td>145</td>\n",
              "      <td>233</td>\n",
              "      <td>1</td>\n",
              "      <td>0</td>\n",
              "      <td>150</td>\n",
              "      <td>0</td>\n",
              "      <td>2.3</td>\n",
              "      <td>0</td>\n",
              "      <td>0</td>\n",
              "      <td>1</td>\n",
              "      <td>1</td>\n",
              "    </tr>\n",
              "    <tr>\n",
              "      <th>1</th>\n",
              "      <td>37</td>\n",
              "      <td>1</td>\n",
              "      <td>2</td>\n",
              "      <td>130</td>\n",
              "      <td>250</td>\n",
              "      <td>0</td>\n",
              "      <td>1</td>\n",
              "      <td>187</td>\n",
              "      <td>0</td>\n",
              "      <td>3.5</td>\n",
              "      <td>0</td>\n",
              "      <td>0</td>\n",
              "      <td>2</td>\n",
              "      <td>1</td>\n",
              "    </tr>\n",
              "    <tr>\n",
              "      <th>2</th>\n",
              "      <td>41</td>\n",
              "      <td>0</td>\n",
              "      <td>1</td>\n",
              "      <td>130</td>\n",
              "      <td>204</td>\n",
              "      <td>0</td>\n",
              "      <td>0</td>\n",
              "      <td>172</td>\n",
              "      <td>0</td>\n",
              "      <td>1.4</td>\n",
              "      <td>2</td>\n",
              "      <td>0</td>\n",
              "      <td>2</td>\n",
              "      <td>1</td>\n",
              "    </tr>\n",
              "    <tr>\n",
              "      <th>3</th>\n",
              "      <td>56</td>\n",
              "      <td>1</td>\n",
              "      <td>1</td>\n",
              "      <td>120</td>\n",
              "      <td>236</td>\n",
              "      <td>0</td>\n",
              "      <td>1</td>\n",
              "      <td>178</td>\n",
              "      <td>0</td>\n",
              "      <td>0.8</td>\n",
              "      <td>2</td>\n",
              "      <td>0</td>\n",
              "      <td>2</td>\n",
              "      <td>1</td>\n",
              "    </tr>\n",
              "    <tr>\n",
              "      <th>4</th>\n",
              "      <td>57</td>\n",
              "      <td>0</td>\n",
              "      <td>0</td>\n",
              "      <td>120</td>\n",
              "      <td>354</td>\n",
              "      <td>0</td>\n",
              "      <td>1</td>\n",
              "      <td>163</td>\n",
              "      <td>1</td>\n",
              "      <td>0.6</td>\n",
              "      <td>2</td>\n",
              "      <td>0</td>\n",
              "      <td>2</td>\n",
              "      <td>1</td>\n",
              "    </tr>\n",
              "  </tbody>\n",
              "</table>\n",
              "</div>\n",
              "      <button class=\"colab-df-convert\" onclick=\"convertToInteractive('df-2b689b51-7805-48ca-9c85-bdb9ce7d10da')\"\n",
              "              title=\"Convert this dataframe to an interactive table.\"\n",
              "              style=\"display:none;\">\n",
              "        \n",
              "  <svg xmlns=\"http://www.w3.org/2000/svg\" height=\"24px\"viewBox=\"0 0 24 24\"\n",
              "       width=\"24px\">\n",
              "    <path d=\"M0 0h24v24H0V0z\" fill=\"none\"/>\n",
              "    <path d=\"M18.56 5.44l.94 2.06.94-2.06 2.06-.94-2.06-.94-.94-2.06-.94 2.06-2.06.94zm-11 1L8.5 8.5l.94-2.06 2.06-.94-2.06-.94L8.5 2.5l-.94 2.06-2.06.94zm10 10l.94 2.06.94-2.06 2.06-.94-2.06-.94-.94-2.06-.94 2.06-2.06.94z\"/><path d=\"M17.41 7.96l-1.37-1.37c-.4-.4-.92-.59-1.43-.59-.52 0-1.04.2-1.43.59L10.3 9.45l-7.72 7.72c-.78.78-.78 2.05 0 2.83L4 21.41c.39.39.9.59 1.41.59.51 0 1.02-.2 1.41-.59l7.78-7.78 2.81-2.81c.8-.78.8-2.07 0-2.86zM5.41 20L4 18.59l7.72-7.72 1.47 1.35L5.41 20z\"/>\n",
              "  </svg>\n",
              "      </button>\n",
              "      \n",
              "  <style>\n",
              "    .colab-df-container {\n",
              "      display:flex;\n",
              "      flex-wrap:wrap;\n",
              "      gap: 12px;\n",
              "    }\n",
              "\n",
              "    .colab-df-convert {\n",
              "      background-color: #E8F0FE;\n",
              "      border: none;\n",
              "      border-radius: 50%;\n",
              "      cursor: pointer;\n",
              "      display: none;\n",
              "      fill: #1967D2;\n",
              "      height: 32px;\n",
              "      padding: 0 0 0 0;\n",
              "      width: 32px;\n",
              "    }\n",
              "\n",
              "    .colab-df-convert:hover {\n",
              "      background-color: #E2EBFA;\n",
              "      box-shadow: 0px 1px 2px rgba(60, 64, 67, 0.3), 0px 1px 3px 1px rgba(60, 64, 67, 0.15);\n",
              "      fill: #174EA6;\n",
              "    }\n",
              "\n",
              "    [theme=dark] .colab-df-convert {\n",
              "      background-color: #3B4455;\n",
              "      fill: #D2E3FC;\n",
              "    }\n",
              "\n",
              "    [theme=dark] .colab-df-convert:hover {\n",
              "      background-color: #434B5C;\n",
              "      box-shadow: 0px 1px 3px 1px rgba(0, 0, 0, 0.15);\n",
              "      filter: drop-shadow(0px 1px 2px rgba(0, 0, 0, 0.3));\n",
              "      fill: #FFFFFF;\n",
              "    }\n",
              "  </style>\n",
              "\n",
              "      <script>\n",
              "        const buttonEl =\n",
              "          document.querySelector('#df-2b689b51-7805-48ca-9c85-bdb9ce7d10da button.colab-df-convert');\n",
              "        buttonEl.style.display =\n",
              "          google.colab.kernel.accessAllowed ? 'block' : 'none';\n",
              "\n",
              "        async function convertToInteractive(key) {\n",
              "          const element = document.querySelector('#df-2b689b51-7805-48ca-9c85-bdb9ce7d10da');\n",
              "          const dataTable =\n",
              "            await google.colab.kernel.invokeFunction('convertToInteractive',\n",
              "                                                     [key], {});\n",
              "          if (!dataTable) return;\n",
              "\n",
              "          const docLinkHtml = 'Like what you see? Visit the ' +\n",
              "            '<a target=\"_blank\" href=https://colab.research.google.com/notebooks/data_table.ipynb>data table notebook</a>'\n",
              "            + ' to learn more about interactive tables.';\n",
              "          element.innerHTML = '';\n",
              "          dataTable['output_type'] = 'display_data';\n",
              "          await google.colab.output.renderOutput(dataTable, element);\n",
              "          const docLink = document.createElement('div');\n",
              "          docLink.innerHTML = docLinkHtml;\n",
              "          element.appendChild(docLink);\n",
              "        }\n",
              "      </script>\n",
              "    </div>\n",
              "  </div>\n",
              "  "
            ],
            "text/plain": [
              "   age  sex  cp  trestbps  chol  fbs  ...  exang  oldpeak  slope  ca  thal  target\n",
              "0   63    1   3       145   233    1  ...      0      2.3      0   0     1       1\n",
              "1   37    1   2       130   250    0  ...      0      3.5      0   0     2       1\n",
              "2   41    0   1       130   204    0  ...      0      1.4      2   0     2       1\n",
              "3   56    1   1       120   236    0  ...      0      0.8      2   0     2       1\n",
              "4   57    0   0       120   354    0  ...      1      0.6      2   0     2       1\n",
              "\n",
              "[5 rows x 14 columns]"
            ]
          },
          "metadata": {},
          "execution_count": 76
        }
      ]
    },
    {
      "cell_type": "code",
      "source": [
        "#no of rows and columns in the dataset\n",
        "\n",
        "df.shape"
      ],
      "metadata": {
        "colab": {
          "base_uri": "https://localhost:8080/"
        },
        "id": "N4EFsXZKN3Sn",
        "outputId": "45a4af5d-ad7d-4ff4-d629-2c8daf91178d"
      },
      "execution_count": 77,
      "outputs": [
        {
          "output_type": "execute_result",
          "data": {
            "text/plain": [
              "(303, 14)"
            ]
          },
          "metadata": {},
          "execution_count": 77
        }
      ]
    },
    {
      "cell_type": "markdown",
      "source": [
        "As we can see there are just 300 data points. So this is a very small dataset. "
      ],
      "metadata": {
        "id": "ARpxfsQlOBJa"
      }
    },
    {
      "cell_type": "code",
      "source": [
        "#checking the null values\n",
        "\n",
        "df.isnull().sum()"
      ],
      "metadata": {
        "colab": {
          "base_uri": "https://localhost:8080/"
        },
        "id": "JhKzu3BaN_qu",
        "outputId": "bd5829cd-8124-409c-a52d-141733b48180"
      },
      "execution_count": 78,
      "outputs": [
        {
          "output_type": "execute_result",
          "data": {
            "text/plain": [
              "age         0\n",
              "sex         0\n",
              "cp          0\n",
              "trestbps    0\n",
              "chol        0\n",
              "fbs         0\n",
              "restecg     0\n",
              "thalach     0\n",
              "exang       0\n",
              "oldpeak     0\n",
              "slope       0\n",
              "ca          0\n",
              "thal        0\n",
              "target      0\n",
              "dtype: int64"
            ]
          },
          "metadata": {},
          "execution_count": 78
        }
      ]
    },
    {
      "cell_type": "markdown",
      "source": [
        "There is no null value in the dataset, so this is a plus point for us otherwise we will have to handle the missing values first of all. This can be done by dropping the missing values from the dataset. or just replacing them with some other values. Which is also known as **IMPUTATION**"
      ],
      "metadata": {
        "id": "vpJjV6tkOOs9"
      }
    },
    {
      "cell_type": "code",
      "source": [
        "#checking the number of values in the label column\n",
        "\n",
        "df['target'].value_counts()"
      ],
      "metadata": {
        "colab": {
          "base_uri": "https://localhost:8080/"
        },
        "id": "K9gSd1UhONNj",
        "outputId": "873baf12-8491-4ee4-8816-a47cd712af90"
      },
      "execution_count": 79,
      "outputs": [
        {
          "output_type": "execute_result",
          "data": {
            "text/plain": [
              "1    165\n",
              "0    138\n",
              "Name: target, dtype: int64"
            ]
          },
          "metadata": {},
          "execution_count": 79
        }
      ]
    },
    {
      "cell_type": "markdown",
      "source": [
        "There is no larger variation in the values in target column so, the dataset seems to be balanced. "
      ],
      "metadata": {
        "id": "uzX16RkGO-ED"
      }
    },
    {
      "cell_type": "markdown",
      "source": [
        "Here:\n",
        "\n",
        "0 -----> Healthy Heart\n",
        "\n",
        "1 -----> Defective Heart\n"
      ],
      "metadata": {
        "id": "b_T3oExpPIcd"
      }
    },
    {
      "cell_type": "code",
      "source": [
        "#splitting the features and the target\n",
        "\n",
        "X = df.drop(columns = 'target', axis = 1)\n",
        "Y = df['target']"
      ],
      "metadata": {
        "id": "Bggjk3SYO6SM"
      },
      "execution_count": 80,
      "outputs": []
    },
    {
      "cell_type": "code",
      "source": [
        "print(X)"
      ],
      "metadata": {
        "colab": {
          "base_uri": "https://localhost:8080/"
        },
        "id": "JsxZgkIHPpfQ",
        "outputId": "25df3cca-5ecf-40fe-efcd-1bd03d215fbf"
      },
      "execution_count": 81,
      "outputs": [
        {
          "output_type": "stream",
          "name": "stdout",
          "text": [
            "     age  sex  cp  trestbps  chol  ...  exang  oldpeak  slope  ca  thal\n",
            "0     63    1   3       145   233  ...      0      2.3      0   0     1\n",
            "1     37    1   2       130   250  ...      0      3.5      0   0     2\n",
            "2     41    0   1       130   204  ...      0      1.4      2   0     2\n",
            "3     56    1   1       120   236  ...      0      0.8      2   0     2\n",
            "4     57    0   0       120   354  ...      1      0.6      2   0     2\n",
            "..   ...  ...  ..       ...   ...  ...    ...      ...    ...  ..   ...\n",
            "298   57    0   0       140   241  ...      1      0.2      1   0     3\n",
            "299   45    1   3       110   264  ...      0      1.2      1   0     3\n",
            "300   68    1   0       144   193  ...      0      3.4      1   2     3\n",
            "301   57    1   0       130   131  ...      1      1.2      1   1     3\n",
            "302   57    0   1       130   236  ...      0      0.0      1   1     2\n",
            "\n",
            "[303 rows x 13 columns]\n"
          ]
        }
      ]
    },
    {
      "cell_type": "code",
      "source": [
        "print(Y)"
      ],
      "metadata": {
        "colab": {
          "base_uri": "https://localhost:8080/"
        },
        "id": "Ggs48feFPrp4",
        "outputId": "222ebb5f-65b9-40fb-b03c-79776401884f"
      },
      "execution_count": 82,
      "outputs": [
        {
          "output_type": "stream",
          "name": "stdout",
          "text": [
            "0      1\n",
            "1      1\n",
            "2      1\n",
            "3      1\n",
            "4      1\n",
            "      ..\n",
            "298    0\n",
            "299    0\n",
            "300    0\n",
            "301    0\n",
            "302    0\n",
            "Name: target, Length: 303, dtype: int64\n"
          ]
        }
      ]
    },
    {
      "cell_type": "markdown",
      "source": [
        "#Train Test Split:"
      ],
      "metadata": {
        "id": "k1FJPTmZP6Ss"
      }
    },
    {
      "cell_type": "code",
      "source": [
        "X_train, X_test, Y_train, Y_test = train_test_split(X, Y, test_size = 0.2, stratify = Y, random_state = 4)"
      ],
      "metadata": {
        "id": "Jf86yLFCPtGt"
      },
      "execution_count": 83,
      "outputs": []
    },
    {
      "cell_type": "code",
      "source": [
        "print(X.shape, X_train.shape, X_test.shape)"
      ],
      "metadata": {
        "colab": {
          "base_uri": "https://localhost:8080/"
        },
        "id": "ttlIZ7jxQW31",
        "outputId": "a1c03ffe-f424-4322-c4b6-8b690a44089f"
      },
      "execution_count": 84,
      "outputs": [
        {
          "output_type": "stream",
          "name": "stdout",
          "text": [
            "(303, 13) (242, 13) (61, 13)\n"
          ]
        }
      ]
    },
    {
      "cell_type": "markdown",
      "source": [
        "Comparing the performance of the various models:\n"
      ],
      "metadata": {
        "id": "edU35P-fQng4"
      }
    },
    {
      "cell_type": "code",
      "source": [
        "#list of models\n",
        "\n",
        "models = [LogisticRegression(max_iter = 1000), SVC(kernel='linear'), KNeighborsClassifier(), RandomForestClassifier()]"
      ],
      "metadata": {
        "id": "3sXYoE6cQh-v"
      },
      "execution_count": 85,
      "outputs": []
    },
    {
      "cell_type": "code",
      "source": [
        "def compare_model_train_test():\n",
        "\n",
        "  for model in models:\n",
        "\n",
        "    #training the model\n",
        "    model.fit(X_train, Y_train)\n",
        "\n",
        "    #evaluating the model\n",
        "\n",
        "    test_data_prediction = model.predict(X_test)\n",
        "\n",
        "    accuracy = accuracy_score(Y_test, test_data_prediction)\n",
        "\n",
        "    print('The accuracy of the', model, 'is', accuracy)\n",
        "\n",
        "    \n"
      ],
      "metadata": {
        "id": "FJIRbArORcRN"
      },
      "execution_count": 86,
      "outputs": []
    },
    {
      "cell_type": "code",
      "source": [
        "  compare_model_train_test()"
      ],
      "metadata": {
        "colab": {
          "base_uri": "https://localhost:8080/"
        },
        "id": "x3IkLWDuS2z6",
        "outputId": "1f5ee65b-a602-4021-a444-17b2c328a59d"
      },
      "execution_count": 87,
      "outputs": [
        {
          "output_type": "stream",
          "name": "stdout",
          "text": [
            "The accuracy of the LogisticRegression(max_iter=1000) is 0.8688524590163934\n",
            "The accuracy of the SVC(kernel='linear') is 0.9016393442622951\n",
            "The accuracy of the KNeighborsClassifier() is 0.639344262295082\n",
            "The accuracy of the RandomForestClassifier() is 0.8524590163934426\n"
          ]
        }
      ]
    },
    {
      "cell_type": "markdown",
      "source": [
        "#Cross Validation:"
      ],
      "metadata": {
        "id": "XFZLlYZlT6A0"
      }
    },
    {
      "cell_type": "markdown",
      "source": [
        "Logistic Regression:"
      ],
      "metadata": {
        "id": "mWAffBG_UDf4"
      }
    },
    {
      "cell_type": "code",
      "source": [
        "cv_score_lr = cross_val_score(LogisticRegression(max_iter = 1000), X, Y, cv = 5)\n",
        "print(cv_score_lr)\n",
        "\n",
        "mean_accuracy_lr = sum(cv_score_lr)/len(cv_score_lr)\n",
        "mean_accuracy_lr = mean_accuracy_lr*100\n",
        "print (mean_accuracy_lr)\n",
        "\n"
      ],
      "metadata": {
        "colab": {
          "base_uri": "https://localhost:8080/"
        },
        "id": "Mmv8DZmkTTl0",
        "outputId": "0854c057-7c27-4640-d714-f92f9fd68425"
      },
      "execution_count": 88,
      "outputs": [
        {
          "output_type": "stream",
          "name": "stdout",
          "text": [
            "[0.80327869 0.86885246 0.85245902 0.86666667 0.75      ]\n",
            "82.82513661202186\n"
          ]
        }
      ]
    },
    {
      "cell_type": "markdown",
      "source": [
        "Support Vector Classifier"
      ],
      "metadata": {
        "id": "o7PaTzaWXdQh"
      }
    },
    {
      "cell_type": "code",
      "source": [
        "cv_score_svc = cross_val_score(SVC(kernel = 'linear'), X, Y, cv = 5)\n",
        "print(cv_score_svc)\n",
        "\n",
        "mean_accuracy_svc = sum(cv_score_svc)/len(cv_score_svc)\n",
        "mean_accuracy_svc = mean_accuracy_svc*100\n",
        "print (mean_accuracy_svc)\n"
      ],
      "metadata": {
        "colab": {
          "base_uri": "https://localhost:8080/"
        },
        "id": "Mefjhmx8U1vW",
        "outputId": "4e70eb68-859f-4d0c-90eb-f12770d48a09"
      },
      "execution_count": 89,
      "outputs": [
        {
          "output_type": "stream",
          "name": "stdout",
          "text": [
            "[0.81967213 0.8852459  0.80327869 0.86666667 0.76666667]\n",
            "82.83060109289619\n"
          ]
        }
      ]
    },
    {
      "cell_type": "markdown",
      "source": [
        "KNeighborsClassifier()"
      ],
      "metadata": {
        "id": "vQ0-Rhp5YPy0"
      }
    },
    {
      "cell_type": "code",
      "source": [
        "cv_score_kn = cross_val_score(KNeighborsClassifier(), X, Y, cv = 5)\n",
        "print(cv_score_kn)\n",
        "\n",
        "mean_accuracy_kn = sum(cv_score_kn)/len(cv_score_kn)\n",
        "mean_accuracy_kn = mean_accuracy_kn*100\n",
        "print (mean_accuracy_kn)\n"
      ],
      "metadata": {
        "colab": {
          "base_uri": "https://localhost:8080/"
        },
        "id": "6Od9V6hzYGAy",
        "outputId": "4660925c-f530-4450-d5ff-581825f28f6a"
      },
      "execution_count": 90,
      "outputs": [
        {
          "output_type": "stream",
          "name": "stdout",
          "text": [
            "[0.60655738 0.6557377  0.57377049 0.73333333 0.65      ]\n",
            "64.38797814207649\n"
          ]
        }
      ]
    },
    {
      "cell_type": "markdown",
      "source": [
        "RandomForest Classifier:"
      ],
      "metadata": {
        "id": "TWbZRZOWY5kP"
      }
    },
    {
      "cell_type": "code",
      "source": [
        "cv_score_rf = cross_val_score(RandomForestClassifier(), X, Y, cv = 5)\n",
        "print(cv_score_rf)\n",
        "\n",
        "mean_accuracy_rf = sum(cv_score_rf)/len(cv_score_rf)\n",
        "mean_accuracy_rf = mean_accuracy_rf*100\n",
        "print (mean_accuracy_rf)"
      ],
      "metadata": {
        "colab": {
          "base_uri": "https://localhost:8080/"
        },
        "id": "CCGcXYshYxYh",
        "outputId": "90f2c9ca-85a4-483f-d348-176395473505"
      },
      "execution_count": 91,
      "outputs": [
        {
          "output_type": "stream",
          "name": "stdout",
          "text": [
            "[0.83606557 0.90163934 0.80327869 0.8        0.75      ]\n",
            "81.81967213114754\n"
          ]
        }
      ]
    },
    {
      "cell_type": "code",
      "source": [
        "def cv_score():\n",
        "\n",
        "  for model in models:\n",
        "    cv_score = cross_val_score(model, X, Y, cv = 5)\n",
        "    mean_accuracy = sum(cv_score)/len(cv_score)\n",
        "    mean_accuracy = mean_accuracy*100\n",
        "    mean_accuracy = round(mean_accuracy, 2)\n",
        "\n",
        "    print('Cross Validation accuracies for',  model, 'is', cv_score)\n",
        "    print('Accuracy % of the', model, 'is', mean_accuracy)\n",
        "    print('-----------------------------------------')"
      ],
      "metadata": {
        "id": "3w1B3u0zZHMn"
      },
      "execution_count": 92,
      "outputs": []
    },
    {
      "cell_type": "code",
      "source": [
        "cv_score()"
      ],
      "metadata": {
        "colab": {
          "base_uri": "https://localhost:8080/"
        },
        "id": "w5w8ruTEa-1y",
        "outputId": "d146bf3b-dd7f-4eb4-999e-af68b1ca9e50"
      },
      "execution_count": 93,
      "outputs": [
        {
          "output_type": "stream",
          "name": "stdout",
          "text": [
            "Cross Validation accuracies for LogisticRegression(max_iter=1000) is [0.80327869 0.86885246 0.85245902 0.86666667 0.75      ]\n",
            "Accuracy % of the LogisticRegression(max_iter=1000) is 82.83\n",
            "-----------------------------------------\n",
            "Cross Validation accuracies for SVC(kernel='linear') is [0.81967213 0.8852459  0.80327869 0.86666667 0.76666667]\n",
            "Accuracy % of the SVC(kernel='linear') is 82.83\n",
            "-----------------------------------------\n",
            "Cross Validation accuracies for KNeighborsClassifier() is [0.60655738 0.6557377  0.57377049 0.73333333 0.65      ]\n",
            "Accuracy % of the KNeighborsClassifier() is 64.39\n",
            "-----------------------------------------\n",
            "Cross Validation accuracies for RandomForestClassifier() is [0.81967213 0.86885246 0.85245902 0.78333333 0.78333333]\n",
            "Accuracy % of the RandomForestClassifier() is 82.15\n",
            "-----------------------------------------\n"
          ]
        }
      ]
    },
    {
      "cell_type": "code",
      "source": [
        ""
      ],
      "metadata": {
        "id": "p10pq_MPbtBe"
      },
      "execution_count": null,
      "outputs": []
    }
  ]
}